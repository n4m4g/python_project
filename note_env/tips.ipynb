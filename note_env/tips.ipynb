{
 "cells": [
  {
   "cell_type": "markdown",
   "metadata": {},
   "source": [
    "## 2020/04/22\n",
    "    - sort() and sorted()\n",
    "    - decorator\n",
    "    - merge multiple dicts"
   ]
  },
  {
   "cell_type": "markdown",
   "metadata": {},
   "source": [
    "## sort() and sorted()"
   ]
  },
  {
   "cell_type": "code",
   "execution_count": 1,
   "metadata": {},
   "outputs": [],
   "source": [
    "import random"
   ]
  },
  {
   "cell_type": "code",
   "execution_count": 20,
   "metadata": {},
   "outputs": [
    {
     "data": {
      "text/plain": [
       "[-7, -8, -3, 9, -10, 0, 1, 7, -9, 4]"
      ]
     },
     "execution_count": 20,
     "metadata": {},
     "output_type": "execute_result"
    }
   ],
   "source": [
    "nums = random.sample(range(-10, 10), 10)\n",
    "nums"
   ]
  },
  {
   "cell_type": "code",
   "execution_count": 25,
   "metadata": {},
   "outputs": [
    {
     "name": "stdout",
     "output_type": "stream",
     "text": [
      "list before sort\n",
      " [-7, -8, -3, 9, -10, 0, 1, 7, -9, 4]\n",
      "list after sort\n",
      " [-10, -9, -8, -7, -3, 0, 1, 4, 7, 9]\n",
      "list after sort in reverse order\n",
      " [9, 7, 4, 1, 0, -3, -7, -8, -9, -10]\n",
      "list sort using key\n",
      " [0, 1, -3, 4, 7, -7, -8, 9, -9, -10]\n"
     ]
    }
   ],
   "source": [
    "# sort() is inplace operation\n",
    "a = nums[::]\n",
    "print('list before sort\\n', a)\n",
    "a.sort()\n",
    "print('list after sort\\n', a)\n",
    "a.sort(reverse=True)\n",
    "print('list after sort in reverse order\\n', a)\n",
    "a.sort(key=lambda x: abs(x))\n",
    "print('list sort using key\\n', a)"
   ]
  },
  {
   "cell_type": "code",
   "execution_count": 22,
   "metadata": {},
   "outputs": [
    {
     "name": "stdout",
     "output_type": "stream",
     "text": [
      "list before sort\n",
      " [-7, -8, -3, 9, -10, 0, 1, 7, -9, 4]\n",
      "list after sort\n",
      " [-10, -9, -8, -7, -3, 0, 1, 4, 7, 9]\n",
      "origianl list is not sorted\n",
      " [-7, -8, -3, 9, -10, 0, 1, 7, -9, 4]\n"
     ]
    }
   ],
   "source": [
    "# sorted() return sorted list\n",
    "b = nums[::]\n",
    "print('list before sort\\n', b)\n",
    "c = sorted(b)\n",
    "print('list after sort\\n', c)\n",
    "print('origianl list is not sorted\\n', b)"
   ]
  },
  {
   "cell_type": "markdown",
   "metadata": {},
   "source": [
    "## decorator"
   ]
  },
  {
   "cell_type": "code",
   "execution_count": 35,
   "metadata": {},
   "outputs": [],
   "source": [
    "import time"
   ]
  },
  {
   "cell_type": "code",
   "execution_count": 36,
   "metadata": {},
   "outputs": [],
   "source": [
    "def timeit(func):\n",
    "    def timed(*args, **kwargs):\n",
    "        ts = time.time()\n",
    "        result = func(*args, **kwargs)\n",
    "        te = time.time()\n",
    "        print(f\"Function {func.__name__}, time: {(te-ts)*1000:.3f}ms\")\n",
    "        return result\n",
    "    return timed"
   ]
  },
  {
   "cell_type": "code",
   "execution_count": 37,
   "metadata": {},
   "outputs": [
    {
     "name": "stdout",
     "output_type": "stream",
     "text": [
      "Function mysleep, time: 1001.087ms\n"
     ]
    }
   ],
   "source": [
    "@timeit\n",
    "def mysleep():\n",
    "    time.sleep(1)\n",
    "    \n",
    "mysleep()"
   ]
  },
  {
   "cell_type": "markdown",
   "metadata": {},
   "source": [
    "## merge multiple dicts"
   ]
  },
  {
   "cell_type": "code",
   "execution_count": 38,
   "metadata": {},
   "outputs": [
    {
     "name": "stdout",
     "output_type": "stream",
     "text": [
      "{'a': 1, 'b': 2} {'c': 3, 'd': 4} {'a': 1, 'b': 2, 'c': 3, 'd': 4}\n"
     ]
    }
   ],
   "source": [
    "a = {'a': 1, 'b': 2}\n",
    "b = {'c': 3, 'd': 4}\n",
    "c = {**a, **b}\n",
    "print(a, b, c)"
   ]
  },
  {
   "cell_type": "code",
   "execution_count": null,
   "metadata": {},
   "outputs": [],
   "source": []
  }
 ],
 "metadata": {
  "kernelspec": {
   "display_name": "Python 3",
   "language": "python",
   "name": "python3"
  },
  "language_info": {
   "codemirror_mode": {
    "name": "ipython",
    "version": 3
   },
   "file_extension": ".py",
   "mimetype": "text/x-python",
   "name": "python",
   "nbconvert_exporter": "python",
   "pygments_lexer": "ipython3",
   "version": "3.8.5"
  }
 },
 "nbformat": 4,
 "nbformat_minor": 4
}
